{
  "nbformat": 4,
  "nbformat_minor": 0,
  "metadata": {
    "colab": {
      "provenance": [],
      "authorship_tag": "ABX9TyO8oqd8npFOwsoWFafCWiyx",
      "include_colab_link": true
    },
    "kernelspec": {
      "name": "python3",
      "display_name": "Python 3"
    },
    "language_info": {
      "name": "python"
    }
  },
  "cells": [
    {
      "cell_type": "markdown",
      "metadata": {
        "id": "view-in-github",
        "colab_type": "text"
      },
      "source": [
        "<a href=\"https://colab.research.google.com/github/vipasha321/Recommendation-Systems-/blob/main/Dating_Recommendation.ipynb\" target=\"_parent\"><img src=\"https://colab.research.google.com/assets/colab-badge.svg\" alt=\"Open In Colab\"/></a>"
      ]
    },
    {
      "cell_type": "code",
      "execution_count": 1,
      "metadata": {
        "colab": {
          "base_uri": "https://localhost:8080/"
        },
        "id": "by_nOOS8JpQZ",
        "outputId": "e7839cf8-b2a3-4c12-be1e-844727c64d74"
      },
      "outputs": [
        {
          "output_type": "stream",
          "name": "stdout",
          "text": [
            "Mounted at /content/drive\n"
          ]
        }
      ],
      "source": [
        "from google.colab import drive\n",
        "drive.mount('/content/drive')"
      ]
    },
    {
      "cell_type": "code",
      "source": [
        "import pandas as pd\n",
        "import plotly.express as px"
      ],
      "metadata": {
        "id": "xEOphUnGKttL"
      },
      "execution_count": 2,
      "outputs": []
    },
    {
      "cell_type": "code",
      "source": [
        "data = pd.read_csv(\"drive/My Drive/DATA/dating_app_dataset.csv\")\n",
        "print(data.head())"
      ],
      "metadata": {
        "colab": {
          "base_uri": "https://localhost:8080/"
        },
        "id": "0u1yMjX1K8Mg",
        "outputId": "1ae560d0-8bc2-4bb4-9d1a-601c5ea9487a"
      },
      "execution_count": 3,
      "outputs": [
        {
          "output_type": "stream",
          "name": "stdout",
          "text": [
            "   User ID  Age  Gender    Height  \\\n",
            "0        1   30    Male  5.240385   \n",
            "1        2   27  Female  4.937625   \n",
            "2        3   29  Female  5.806296   \n",
            "3        4   29  Female  5.101402   \n",
            "4        5   32    Male  5.986670   \n",
            "\n",
            "                                           Interests             Looking For  \\\n",
            "0  ['Sports', 'Cooking', 'Hiking', 'Music', 'Movi...           Casual Dating   \n",
            "1                              ['Sports', 'Reading']              Friendship   \n",
            "2                                         ['Sports']           Casual Dating   \n",
            "3                                        ['Reading']                Marriage   \n",
            "4  ['Sports', 'Hiking', 'Music', 'Movies', 'Readi...  Long-term Relationship   \n",
            "\n",
            "  Children    Education Level               Occupation  Swiping History  \\\n",
            "0       No        High School                  Student               96   \n",
            "1      Yes    Master's Degree                   Artist               96   \n",
            "2       No  Bachelor's Degree  Social Media Influencer               64   \n",
            "3       No              Ph.D.                   Doctor               67   \n",
            "4      Yes              Ph.D.                 Engineer               93   \n",
            "\n",
            "  Frequency of Usage  \n",
            "0             Weekly  \n",
            "1            Monthly  \n",
            "2              Daily  \n",
            "3              Daily  \n",
            "4            Monthly  \n"
          ]
        }
      ]
    },
    {
      "cell_type": "code",
      "source": [
        "# age distribution by gender\n",
        "fig = px.histogram(data, x=\"Age\", color=\"Gender\", nbins=20,\n",
        "                   title=\"Age Distribution by Gender\")\n",
        "fig.update_layout(xaxis_title=\"Age\", yaxis_title=\"Count\")\n",
        "fig.show()"
      ],
      "metadata": {
        "id": "MNUem1i8K1AZ",
        "colab": {
          "base_uri": "https://localhost:8080/",
          "height": 542
        },
        "outputId": "8ac102b8-b436-40a4-a102-b2307ac0f26b"
      },
      "execution_count": 4,
      "outputs": [
        {
          "output_type": "display_data",
          "data": {
            "text/html": [
              "<html>\n",
              "<head><meta charset=\"utf-8\" /></head>\n",
              "<body>\n",
              "    <div>            <script src=\"https://cdnjs.cloudflare.com/ajax/libs/mathjax/2.7.5/MathJax.js?config=TeX-AMS-MML_SVG\"></script><script type=\"text/javascript\">if (window.MathJax && window.MathJax.Hub && window.MathJax.Hub.Config) {window.MathJax.Hub.Config({SVG: {font: \"STIX-Web\"}});}</script>                <script type=\"text/javascript\">window.PlotlyConfig = {MathJaxConfig: 'local'};</script>\n",
              "        <script charset=\"utf-8\" src=\"https://cdn.plot.ly/plotly-2.24.1.min.js\"></script>                <div id=\"5a0ad03c-3971-4835-a63f-8e65a4647e1a\" class=\"plotly-graph-div\" style=\"height:525px; width:100%;\"></div>            <script type=\"text/javascript\">                                    window.PLOTLYENV=window.PLOTLYENV || {};                                    if (document.getElementById(\"5a0ad03c-3971-4835-a63f-8e65a4647e1a\")) {                    Plotly.newPlot(                        \"5a0ad03c-3971-4835-a63f-8e65a4647e1a\",                        [{\"alignmentgroup\":\"True\",\"bingroup\":\"x\",\"hovertemplate\":\"Gender=Male\\u003cbr\\u003eAge=%{x}\\u003cbr\\u003ecount=%{y}\\u003cextra\\u003e\\u003c\\u002fextra\\u003e\",\"legendgroup\":\"Male\",\"marker\":{\"color\":\"#636efa\",\"pattern\":{\"shape\":\"\"}},\"name\":\"Male\",\"nbinsx\":20,\"offsetgroup\":\"Male\",\"orientation\":\"v\",\"showlegend\":true,\"x\":[30,32,21,20,27,29,31,31,22,32,32,30,21,25,19,24,19,35,34,23,30,30,33,35,18,27,35,34,21,33,30,27,31,28,35,23,31,34,23,25,25,24,23,22,31,32,29,21,35,32,31,27,29,24,19,25,25,32,24,26,29,24,32,32,29,26,35,20,32,33,32,24,34,18,25,34,25,21,27,32,30,23,24,22,21,32,31,25,35,30,29,34,26,29,31,31,26,33,29,34,24,28,32,20,32,34,24,33,31,23,20,35,34,28,31,19,31,35,31,27,21,34,21,25,26,29,28,23,33,22,24,21,24,21,29,26,22,22,24,29,20,29,30,21,35,31,19,34,28,27,34,28,23,24,21,26,32,20,21,26,20,30,21,31,26,33,33,19,18,25,19,30,25,34,23,33,19,35,18,25,35,18,33,21,25,26,23,22,34,28,18,33,23,34,19,31,24,18,28,34,30,29,21,33,28,35,29,18,25,18,31,18,30,30,32,23,21,25,27,23,25,27,32,31,35,35,27,33,23,29,29,19,24,34,19,21,34,21,33,29,28,25,35,33,34,18,34,27,33,32,24],\"xaxis\":\"x\",\"yaxis\":\"y\",\"type\":\"histogram\"},{\"alignmentgroup\":\"True\",\"bingroup\":\"x\",\"hovertemplate\":\"Gender=Female\\u003cbr\\u003eAge=%{x}\\u003cbr\\u003ecount=%{y}\\u003cextra\\u003e\\u003c\\u002fextra\\u003e\",\"legendgroup\":\"Female\",\"marker\":{\"color\":\"#EF553B\",\"pattern\":{\"shape\":\"\"}},\"name\":\"Female\",\"nbinsx\":20,\"offsetgroup\":\"Female\",\"orientation\":\"v\",\"showlegend\":true,\"x\":[27,29,29,25,27,33,26,27,20,33,25,30,24,27,31,24,29,20,19,18,20,26,24,24,31,20,33,26,28,18,28,33,34,30,25,29,32,34,31,22,25,32,25,20,18,25,25,24,34,24,33,21,21,22,22,22,19,30,28,23,22,22,26,22,30,26,25,34,33,25,22,28,27,32,21,25,31,19,33,33,21,29,20,27,28,20,18,18,22,25,26,26,28,30,23,32,27,21,24,30,23,31,28,23,34,34,22,35,19,25,26,22,29,23,25,31,35,33,23,27,20,24,27,21,27,23,23,23,34,25,27,22,32,32,19,34,19,33,18,24,26,24,34,29,22,21,33,34,20,29,30,28,26,35,24,33,32,27,24,19,20,25,31,32,18,19,28,32,34,34,28,31,18,26,29,27,33,19,23,25,32,26,31,35,29,32,26,34,35,23,20,32,31,34,32,30,23,27,33,32,24,29,30,33,27,33,20,20,22,18,27,32,24,20,35,30,27,24,24,35,33,19,18,18,28,23,20,23,33,29,35,26,35,29,20,29,28,18,29,19,35,20,28,32,24,30,32,33,30],\"xaxis\":\"x\",\"yaxis\":\"y\",\"type\":\"histogram\"}],                        {\"template\":{\"data\":{\"histogram2dcontour\":[{\"type\":\"histogram2dcontour\",\"colorbar\":{\"outlinewidth\":0,\"ticks\":\"\"},\"colorscale\":[[0.0,\"#0d0887\"],[0.1111111111111111,\"#46039f\"],[0.2222222222222222,\"#7201a8\"],[0.3333333333333333,\"#9c179e\"],[0.4444444444444444,\"#bd3786\"],[0.5555555555555556,\"#d8576b\"],[0.6666666666666666,\"#ed7953\"],[0.7777777777777778,\"#fb9f3a\"],[0.8888888888888888,\"#fdca26\"],[1.0,\"#f0f921\"]]}],\"choropleth\":[{\"type\":\"choropleth\",\"colorbar\":{\"outlinewidth\":0,\"ticks\":\"\"}}],\"histogram2d\":[{\"type\":\"histogram2d\",\"colorbar\":{\"outlinewidth\":0,\"ticks\":\"\"},\"colorscale\":[[0.0,\"#0d0887\"],[0.1111111111111111,\"#46039f\"],[0.2222222222222222,\"#7201a8\"],[0.3333333333333333,\"#9c179e\"],[0.4444444444444444,\"#bd3786\"],[0.5555555555555556,\"#d8576b\"],[0.6666666666666666,\"#ed7953\"],[0.7777777777777778,\"#fb9f3a\"],[0.8888888888888888,\"#fdca26\"],[1.0,\"#f0f921\"]]}],\"heatmap\":[{\"type\":\"heatmap\",\"colorbar\":{\"outlinewidth\":0,\"ticks\":\"\"},\"colorscale\":[[0.0,\"#0d0887\"],[0.1111111111111111,\"#46039f\"],[0.2222222222222222,\"#7201a8\"],[0.3333333333333333,\"#9c179e\"],[0.4444444444444444,\"#bd3786\"],[0.5555555555555556,\"#d8576b\"],[0.6666666666666666,\"#ed7953\"],[0.7777777777777778,\"#fb9f3a\"],[0.8888888888888888,\"#fdca26\"],[1.0,\"#f0f921\"]]}],\"heatmapgl\":[{\"type\":\"heatmapgl\",\"colorbar\":{\"outlinewidth\":0,\"ticks\":\"\"},\"colorscale\":[[0.0,\"#0d0887\"],[0.1111111111111111,\"#46039f\"],[0.2222222222222222,\"#7201a8\"],[0.3333333333333333,\"#9c179e\"],[0.4444444444444444,\"#bd3786\"],[0.5555555555555556,\"#d8576b\"],[0.6666666666666666,\"#ed7953\"],[0.7777777777777778,\"#fb9f3a\"],[0.8888888888888888,\"#fdca26\"],[1.0,\"#f0f921\"]]}],\"contourcarpet\":[{\"type\":\"contourcarpet\",\"colorbar\":{\"outlinewidth\":0,\"ticks\":\"\"}}],\"contour\":[{\"type\":\"contour\",\"colorbar\":{\"outlinewidth\":0,\"ticks\":\"\"},\"colorscale\":[[0.0,\"#0d0887\"],[0.1111111111111111,\"#46039f\"],[0.2222222222222222,\"#7201a8\"],[0.3333333333333333,\"#9c179e\"],[0.4444444444444444,\"#bd3786\"],[0.5555555555555556,\"#d8576b\"],[0.6666666666666666,\"#ed7953\"],[0.7777777777777778,\"#fb9f3a\"],[0.8888888888888888,\"#fdca26\"],[1.0,\"#f0f921\"]]}],\"surface\":[{\"type\":\"surface\",\"colorbar\":{\"outlinewidth\":0,\"ticks\":\"\"},\"colorscale\":[[0.0,\"#0d0887\"],[0.1111111111111111,\"#46039f\"],[0.2222222222222222,\"#7201a8\"],[0.3333333333333333,\"#9c179e\"],[0.4444444444444444,\"#bd3786\"],[0.5555555555555556,\"#d8576b\"],[0.6666666666666666,\"#ed7953\"],[0.7777777777777778,\"#fb9f3a\"],[0.8888888888888888,\"#fdca26\"],[1.0,\"#f0f921\"]]}],\"mesh3d\":[{\"type\":\"mesh3d\",\"colorbar\":{\"outlinewidth\":0,\"ticks\":\"\"}}],\"scatter\":[{\"fillpattern\":{\"fillmode\":\"overlay\",\"size\":10,\"solidity\":0.2},\"type\":\"scatter\"}],\"parcoords\":[{\"type\":\"parcoords\",\"line\":{\"colorbar\":{\"outlinewidth\":0,\"ticks\":\"\"}}}],\"scatterpolargl\":[{\"type\":\"scatterpolargl\",\"marker\":{\"colorbar\":{\"outlinewidth\":0,\"ticks\":\"\"}}}],\"bar\":[{\"error_x\":{\"color\":\"#2a3f5f\"},\"error_y\":{\"color\":\"#2a3f5f\"},\"marker\":{\"line\":{\"color\":\"#E5ECF6\",\"width\":0.5},\"pattern\":{\"fillmode\":\"overlay\",\"size\":10,\"solidity\":0.2}},\"type\":\"bar\"}],\"scattergeo\":[{\"type\":\"scattergeo\",\"marker\":{\"colorbar\":{\"outlinewidth\":0,\"ticks\":\"\"}}}],\"scatterpolar\":[{\"type\":\"scatterpolar\",\"marker\":{\"colorbar\":{\"outlinewidth\":0,\"ticks\":\"\"}}}],\"histogram\":[{\"marker\":{\"pattern\":{\"fillmode\":\"overlay\",\"size\":10,\"solidity\":0.2}},\"type\":\"histogram\"}],\"scattergl\":[{\"type\":\"scattergl\",\"marker\":{\"colorbar\":{\"outlinewidth\":0,\"ticks\":\"\"}}}],\"scatter3d\":[{\"type\":\"scatter3d\",\"line\":{\"colorbar\":{\"outlinewidth\":0,\"ticks\":\"\"}},\"marker\":{\"colorbar\":{\"outlinewidth\":0,\"ticks\":\"\"}}}],\"scattermapbox\":[{\"type\":\"scattermapbox\",\"marker\":{\"colorbar\":{\"outlinewidth\":0,\"ticks\":\"\"}}}],\"scatterternary\":[{\"type\":\"scatterternary\",\"marker\":{\"colorbar\":{\"outlinewidth\":0,\"ticks\":\"\"}}}],\"scattercarpet\":[{\"type\":\"scattercarpet\",\"marker\":{\"colorbar\":{\"outlinewidth\":0,\"ticks\":\"\"}}}],\"carpet\":[{\"aaxis\":{\"endlinecolor\":\"#2a3f5f\",\"gridcolor\":\"white\",\"linecolor\":\"white\",\"minorgridcolor\":\"white\",\"startlinecolor\":\"#2a3f5f\"},\"baxis\":{\"endlinecolor\":\"#2a3f5f\",\"gridcolor\":\"white\",\"linecolor\":\"white\",\"minorgridcolor\":\"white\",\"startlinecolor\":\"#2a3f5f\"},\"type\":\"carpet\"}],\"table\":[{\"cells\":{\"fill\":{\"color\":\"#EBF0F8\"},\"line\":{\"color\":\"white\"}},\"header\":{\"fill\":{\"color\":\"#C8D4E3\"},\"line\":{\"color\":\"white\"}},\"type\":\"table\"}],\"barpolar\":[{\"marker\":{\"line\":{\"color\":\"#E5ECF6\",\"width\":0.5},\"pattern\":{\"fillmode\":\"overlay\",\"size\":10,\"solidity\":0.2}},\"type\":\"barpolar\"}],\"pie\":[{\"automargin\":true,\"type\":\"pie\"}]},\"layout\":{\"autotypenumbers\":\"strict\",\"colorway\":[\"#636efa\",\"#EF553B\",\"#00cc96\",\"#ab63fa\",\"#FFA15A\",\"#19d3f3\",\"#FF6692\",\"#B6E880\",\"#FF97FF\",\"#FECB52\"],\"font\":{\"color\":\"#2a3f5f\"},\"hovermode\":\"closest\",\"hoverlabel\":{\"align\":\"left\"},\"paper_bgcolor\":\"white\",\"plot_bgcolor\":\"#E5ECF6\",\"polar\":{\"bgcolor\":\"#E5ECF6\",\"angularaxis\":{\"gridcolor\":\"white\",\"linecolor\":\"white\",\"ticks\":\"\"},\"radialaxis\":{\"gridcolor\":\"white\",\"linecolor\":\"white\",\"ticks\":\"\"}},\"ternary\":{\"bgcolor\":\"#E5ECF6\",\"aaxis\":{\"gridcolor\":\"white\",\"linecolor\":\"white\",\"ticks\":\"\"},\"baxis\":{\"gridcolor\":\"white\",\"linecolor\":\"white\",\"ticks\":\"\"},\"caxis\":{\"gridcolor\":\"white\",\"linecolor\":\"white\",\"ticks\":\"\"}},\"coloraxis\":{\"colorbar\":{\"outlinewidth\":0,\"ticks\":\"\"}},\"colorscale\":{\"sequential\":[[0.0,\"#0d0887\"],[0.1111111111111111,\"#46039f\"],[0.2222222222222222,\"#7201a8\"],[0.3333333333333333,\"#9c179e\"],[0.4444444444444444,\"#bd3786\"],[0.5555555555555556,\"#d8576b\"],[0.6666666666666666,\"#ed7953\"],[0.7777777777777778,\"#fb9f3a\"],[0.8888888888888888,\"#fdca26\"],[1.0,\"#f0f921\"]],\"sequentialminus\":[[0.0,\"#0d0887\"],[0.1111111111111111,\"#46039f\"],[0.2222222222222222,\"#7201a8\"],[0.3333333333333333,\"#9c179e\"],[0.4444444444444444,\"#bd3786\"],[0.5555555555555556,\"#d8576b\"],[0.6666666666666666,\"#ed7953\"],[0.7777777777777778,\"#fb9f3a\"],[0.8888888888888888,\"#fdca26\"],[1.0,\"#f0f921\"]],\"diverging\":[[0,\"#8e0152\"],[0.1,\"#c51b7d\"],[0.2,\"#de77ae\"],[0.3,\"#f1b6da\"],[0.4,\"#fde0ef\"],[0.5,\"#f7f7f7\"],[0.6,\"#e6f5d0\"],[0.7,\"#b8e186\"],[0.8,\"#7fbc41\"],[0.9,\"#4d9221\"],[1,\"#276419\"]]},\"xaxis\":{\"gridcolor\":\"white\",\"linecolor\":\"white\",\"ticks\":\"\",\"title\":{\"standoff\":15},\"zerolinecolor\":\"white\",\"automargin\":true,\"zerolinewidth\":2},\"yaxis\":{\"gridcolor\":\"white\",\"linecolor\":\"white\",\"ticks\":\"\",\"title\":{\"standoff\":15},\"zerolinecolor\":\"white\",\"automargin\":true,\"zerolinewidth\":2},\"scene\":{\"xaxis\":{\"backgroundcolor\":\"#E5ECF6\",\"gridcolor\":\"white\",\"linecolor\":\"white\",\"showbackground\":true,\"ticks\":\"\",\"zerolinecolor\":\"white\",\"gridwidth\":2},\"yaxis\":{\"backgroundcolor\":\"#E5ECF6\",\"gridcolor\":\"white\",\"linecolor\":\"white\",\"showbackground\":true,\"ticks\":\"\",\"zerolinecolor\":\"white\",\"gridwidth\":2},\"zaxis\":{\"backgroundcolor\":\"#E5ECF6\",\"gridcolor\":\"white\",\"linecolor\":\"white\",\"showbackground\":true,\"ticks\":\"\",\"zerolinecolor\":\"white\",\"gridwidth\":2}},\"shapedefaults\":{\"line\":{\"color\":\"#2a3f5f\"}},\"annotationdefaults\":{\"arrowcolor\":\"#2a3f5f\",\"arrowhead\":0,\"arrowwidth\":1},\"geo\":{\"bgcolor\":\"white\",\"landcolor\":\"#E5ECF6\",\"subunitcolor\":\"white\",\"showland\":true,\"showlakes\":true,\"lakecolor\":\"white\"},\"title\":{\"x\":0.05},\"mapbox\":{\"style\":\"light\"}}},\"xaxis\":{\"anchor\":\"y\",\"domain\":[0.0,1.0],\"title\":{\"text\":\"Age\"}},\"yaxis\":{\"anchor\":\"x\",\"domain\":[0.0,1.0],\"title\":{\"text\":\"Count\"}},\"legend\":{\"title\":{\"text\":\"Gender\"},\"tracegroupgap\":0},\"title\":{\"text\":\"Age Distribution by Gender\"},\"barmode\":\"relative\"},                        {\"responsive\": true}                    ).then(function(){\n",
              "                            \n",
              "var gd = document.getElementById('5a0ad03c-3971-4835-a63f-8e65a4647e1a');\n",
              "var x = new MutationObserver(function (mutations, observer) {{\n",
              "        var display = window.getComputedStyle(gd).display;\n",
              "        if (!display || display === 'none') {{\n",
              "            console.log([gd, 'removed!']);\n",
              "            Plotly.purge(gd);\n",
              "            observer.disconnect();\n",
              "        }}\n",
              "}});\n",
              "\n",
              "// Listen for the removal of the full notebook cells\n",
              "var notebookContainer = gd.closest('#notebook-container');\n",
              "if (notebookContainer) {{\n",
              "    x.observe(notebookContainer, {childList: true});\n",
              "}}\n",
              "\n",
              "// Listen for the clearing of the current output cell\n",
              "var outputEl = gd.closest('.output');\n",
              "if (outputEl) {{\n",
              "    x.observe(outputEl, {childList: true});\n",
              "}}\n",
              "\n",
              "                        })                };                            </script>        </div>\n",
              "</body>\n",
              "</html>"
            ]
          },
          "metadata": {}
        }
      ]
    },
    {
      "cell_type": "code",
      "source": [
        "# education level distribution by gender\n",
        "education_order = [\"High School\", \"Bachelor's Degree\", \"Master's Degree\", \"Ph.D.\"]\n",
        "fig = px.bar(data, x=\"Education Level\", color=\"Gender\",\n",
        "             category_orders={\"Education Level\": education_order},\n",
        "             title=\"Education Level Distribution by Gender\")\n",
        "\n",
        "fig.update_layout(xaxis_title=\"Education Level\", yaxis_title=\"Count\")\n",
        "fig.show()"
      ],
      "metadata": {
        "colab": {
          "base_uri": "https://localhost:8080/",
          "height": 542
        },
        "id": "fQrNsCrAiy6_",
        "outputId": "6c4f7cf0-a304-4b73-d40a-a9530fefee5d"
      },
      "execution_count": 5,
      "outputs": [
        {
          "output_type": "display_data",
          "data": {
            "text/html": [
              "<html>\n",
              "<head><meta charset=\"utf-8\" /></head>\n",
              "<body>\n",
              "    <div>            <script src=\"https://cdnjs.cloudflare.com/ajax/libs/mathjax/2.7.5/MathJax.js?config=TeX-AMS-MML_SVG\"></script><script type=\"text/javascript\">if (window.MathJax && window.MathJax.Hub && window.MathJax.Hub.Config) {window.MathJax.Hub.Config({SVG: {font: \"STIX-Web\"}});}</script>                <script type=\"text/javascript\">window.PlotlyConfig = {MathJaxConfig: 'local'};</script>\n",
              "        <script charset=\"utf-8\" src=\"https://cdn.plot.ly/plotly-2.24.1.min.js\"></script>                <div id=\"86012c90-2395-4782-870f-0d33a2ad7672\" class=\"plotly-graph-div\" style=\"height:525px; width:100%;\"></div>            <script type=\"text/javascript\">                                    window.PLOTLYENV=window.PLOTLYENV || {};                                    if (document.getElementById(\"86012c90-2395-4782-870f-0d33a2ad7672\")) {                    Plotly.newPlot(                        \"86012c90-2395-4782-870f-0d33a2ad7672\",                        [{\"alignmentgroup\":\"True\",\"hovertemplate\":\"Gender=Male\\u003cbr\\u003eEducation Level=%{x}\\u003cbr\\u003ecount=%{y}\\u003cextra\\u003e\\u003c\\u002fextra\\u003e\",\"legendgroup\":\"Male\",\"marker\":{\"color\":\"#636efa\",\"pattern\":{\"shape\":\"\"}},\"name\":\"Male\",\"offsetgroup\":\"Male\",\"orientation\":\"v\",\"showlegend\":true,\"textposition\":\"auto\",\"x\":[\"High School\",\"Ph.D.\",\"Bachelor's Degree\",\"Bachelor's Degree\",\"Bachelor's Degree\",\"Master's Degree\",\"Master's Degree\",\"Bachelor's Degree\",\"Bachelor's Degree\",\"Master's Degree\",\"Bachelor's Degree\",\"Ph.D.\",\"Ph.D.\",\"Ph.D.\",\"Ph.D.\",\"Master's Degree\",\"High School\",\"Bachelor's Degree\",\"Master's Degree\",\"High School\",\"High School\",\"High School\",\"Bachelor's Degree\",\"High School\",\"Ph.D.\",\"Master's Degree\",\"High School\",\"Master's Degree\",\"Ph.D.\",\"Bachelor's Degree\",\"Ph.D.\",\"Master's Degree\",\"Master's Degree\",\"Bachelor's Degree\",\"High School\",\"Master's Degree\",\"Bachelor's Degree\",\"Master's Degree\",\"Ph.D.\",\"Bachelor's Degree\",\"Ph.D.\",\"Master's Degree\",\"High School\",\"Ph.D.\",\"Bachelor's Degree\",\"High School\",\"Master's Degree\",\"Ph.D.\",\"Master's Degree\",\"Master's Degree\",\"High School\",\"Master's Degree\",\"High School\",\"High School\",\"High School\",\"Ph.D.\",\"Ph.D.\",\"Master's Degree\",\"High School\",\"Ph.D.\",\"Bachelor's Degree\",\"Ph.D.\",\"Master's Degree\",\"Ph.D.\",\"Bachelor's Degree\",\"Ph.D.\",\"Master's Degree\",\"Bachelor's Degree\",\"Ph.D.\",\"Bachelor's Degree\",\"Bachelor's Degree\",\"Master's Degree\",\"Bachelor's Degree\",\"Master's Degree\",\"Bachelor's Degree\",\"Master's Degree\",\"Bachelor's Degree\",\"High School\",\"Master's Degree\",\"Master's Degree\",\"High School\",\"Ph.D.\",\"Ph.D.\",\"Bachelor's Degree\",\"Master's Degree\",\"High School\",\"Bachelor's Degree\",\"Ph.D.\",\"Bachelor's Degree\",\"Ph.D.\",\"Ph.D.\",\"Master's Degree\",\"Master's Degree\",\"Ph.D.\",\"High School\",\"Master's Degree\",\"Master's Degree\",\"Bachelor's Degree\",\"Master's Degree\",\"Master's Degree\",\"Master's Degree\",\"Bachelor's Degree\",\"Bachelor's Degree\",\"Ph.D.\",\"High School\",\"Bachelor's Degree\",\"Ph.D.\",\"Ph.D.\",\"Bachelor's Degree\",\"Bachelor's Degree\",\"Bachelor's Degree\",\"High School\",\"Master's Degree\",\"Ph.D.\",\"Bachelor's Degree\",\"High School\",\"Bachelor's Degree\",\"Master's Degree\",\"High School\",\"High School\",\"Bachelor's Degree\",\"Master's Degree\",\"Bachelor's Degree\",\"Bachelor's Degree\",\"Ph.D.\",\"Bachelor's Degree\",\"High School\",\"Master's Degree\",\"Bachelor's Degree\",\"Master's Degree\",\"Bachelor's Degree\",\"Ph.D.\",\"Ph.D.\",\"Master's Degree\",\"Bachelor's Degree\",\"Bachelor's Degree\",\"Ph.D.\",\"Ph.D.\",\"Master's Degree\",\"Bachelor's Degree\",\"Bachelor's Degree\",\"High School\",\"Bachelor's Degree\",\"High School\",\"Ph.D.\",\"Master's Degree\",\"Master's Degree\",\"Bachelor's Degree\",\"Ph.D.\",\"Ph.D.\",\"High School\",\"High School\",\"Bachelor's Degree\",\"Master's Degree\",\"Master's Degree\",\"Master's Degree\",\"Bachelor's Degree\",\"Master's Degree\",\"Master's Degree\",\"Bachelor's Degree\",\"Master's Degree\",\"Bachelor's Degree\",\"Bachelor's Degree\",\"Bachelor's Degree\",\"Master's Degree\",\"High School\",\"Ph.D.\",\"Bachelor's Degree\",\"Ph.D.\",\"High School\",\"Bachelor's Degree\",\"High School\",\"High School\",\"Master's Degree\",\"Ph.D.\",\"High School\",\"Bachelor's Degree\",\"High School\",\"Master's Degree\",\"High School\",\"Bachelor's Degree\",\"Bachelor's Degree\",\"Master's Degree\",\"Ph.D.\",\"High School\",\"Master's Degree\",\"Ph.D.\",\"High School\",\"Bachelor's Degree\",\"High School\",\"Master's Degree\",\"Master's Degree\",\"Master's Degree\",\"Bachelor's Degree\",\"High School\",\"High School\",\"Ph.D.\",\"Master's Degree\",\"Master's Degree\",\"Master's Degree\",\"Bachelor's Degree\",\"High School\",\"Bachelor's Degree\",\"High School\",\"Bachelor's Degree\",\"Ph.D.\",\"Bachelor's Degree\",\"Bachelor's Degree\",\"Master's Degree\",\"High School\",\"Master's Degree\",\"Ph.D.\",\"Bachelor's Degree\",\"High School\",\"Bachelor's Degree\",\"Master's Degree\",\"Bachelor's Degree\",\"High School\",\"Bachelor's Degree\",\"Bachelor's Degree\",\"High School\",\"Ph.D.\",\"High School\",\"Bachelor's Degree\",\"High School\",\"High School\",\"High School\",\"Bachelor's Degree\",\"Ph.D.\",\"Bachelor's Degree\",\"Ph.D.\",\"Master's Degree\",\"Ph.D.\",\"Ph.D.\",\"High School\",\"Bachelor's Degree\",\"Ph.D.\",\"Master's Degree\",\"Master's Degree\",\"Master's Degree\",\"Bachelor's Degree\",\"Ph.D.\",\"High School\",\"Bachelor's Degree\",\"Ph.D.\",\"Master's Degree\",\"Bachelor's Degree\",\"Bachelor's Degree\",\"Bachelor's Degree\",\"High School\",\"Ph.D.\"],\"xaxis\":\"x\",\"y\":[1,1,1,1,1,1,1,1,1,1,1,1,1,1,1,1,1,1,1,1,1,1,1,1,1,1,1,1,1,1,1,1,1,1,1,1,1,1,1,1,1,1,1,1,1,1,1,1,1,1,1,1,1,1,1,1,1,1,1,1,1,1,1,1,1,1,1,1,1,1,1,1,1,1,1,1,1,1,1,1,1,1,1,1,1,1,1,1,1,1,1,1,1,1,1,1,1,1,1,1,1,1,1,1,1,1,1,1,1,1,1,1,1,1,1,1,1,1,1,1,1,1,1,1,1,1,1,1,1,1,1,1,1,1,1,1,1,1,1,1,1,1,1,1,1,1,1,1,1,1,1,1,1,1,1,1,1,1,1,1,1,1,1,1,1,1,1,1,1,1,1,1,1,1,1,1,1,1,1,1,1,1,1,1,1,1,1,1,1,1,1,1,1,1,1,1,1,1,1,1,1,1,1,1,1,1,1,1,1,1,1,1,1,1,1,1,1,1,1,1,1,1,1,1,1,1,1,1,1,1,1,1,1,1,1,1,1,1,1,1,1,1,1,1,1,1,1,1,1,1,1],\"yaxis\":\"y\",\"type\":\"bar\"},{\"alignmentgroup\":\"True\",\"hovertemplate\":\"Gender=Female\\u003cbr\\u003eEducation Level=%{x}\\u003cbr\\u003ecount=%{y}\\u003cextra\\u003e\\u003c\\u002fextra\\u003e\",\"legendgroup\":\"Female\",\"marker\":{\"color\":\"#EF553B\",\"pattern\":{\"shape\":\"\"}},\"name\":\"Female\",\"offsetgroup\":\"Female\",\"orientation\":\"v\",\"showlegend\":true,\"textposition\":\"auto\",\"x\":[\"Master's Degree\",\"Bachelor's Degree\",\"Ph.D.\",\"Master's Degree\",\"Master's Degree\",\"High School\",\"Ph.D.\",\"Master's Degree\",\"Ph.D.\",\"Bachelor's Degree\",\"High School\",\"Bachelor's Degree\",\"Ph.D.\",\"Master's Degree\",\"Bachelor's Degree\",\"Master's Degree\",\"High School\",\"High School\",\"Ph.D.\",\"Ph.D.\",\"Master's Degree\",\"Bachelor's Degree\",\"Ph.D.\",\"Bachelor's Degree\",\"High School\",\"Bachelor's Degree\",\"High School\",\"Bachelor's Degree\",\"High School\",\"Master's Degree\",\"High School\",\"Ph.D.\",\"Ph.D.\",\"High School\",\"Ph.D.\",\"Ph.D.\",\"Bachelor's Degree\",\"Master's Degree\",\"Bachelor's Degree\",\"High School\",\"Bachelor's Degree\",\"Master's Degree\",\"Ph.D.\",\"Ph.D.\",\"Bachelor's Degree\",\"Bachelor's Degree\",\"Ph.D.\",\"High School\",\"Bachelor's Degree\",\"Ph.D.\",\"Bachelor's Degree\",\"Ph.D.\",\"High School\",\"Ph.D.\",\"Master's Degree\",\"High School\",\"Bachelor's Degree\",\"Ph.D.\",\"Bachelor's Degree\",\"Master's Degree\",\"Master's Degree\",\"Bachelor's Degree\",\"Master's Degree\",\"High School\",\"Bachelor's Degree\",\"Ph.D.\",\"Ph.D.\",\"Bachelor's Degree\",\"High School\",\"Master's Degree\",\"Master's Degree\",\"Bachelor's Degree\",\"Ph.D.\",\"Master's Degree\",\"Master's Degree\",\"High School\",\"Ph.D.\",\"Master's Degree\",\"High School\",\"High School\",\"High School\",\"Bachelor's Degree\",\"High School\",\"Bachelor's Degree\",\"Master's Degree\",\"High School\",\"Ph.D.\",\"Master's Degree\",\"Master's Degree\",\"Bachelor's Degree\",\"Master's Degree\",\"High School\",\"High School\",\"High School\",\"High School\",\"High School\",\"Bachelor's Degree\",\"Ph.D.\",\"Bachelor's Degree\",\"Master's Degree\",\"Bachelor's Degree\",\"High School\",\"Bachelor's Degree\",\"Ph.D.\",\"Ph.D.\",\"Master's Degree\",\"Master's Degree\",\"High School\",\"Master's Degree\",\"Bachelor's Degree\",\"High School\",\"Master's Degree\",\"Bachelor's Degree\",\"Ph.D.\",\"Bachelor's Degree\",\"Ph.D.\",\"Ph.D.\",\"High School\",\"Master's Degree\",\"Bachelor's Degree\",\"Master's Degree\",\"Ph.D.\",\"Bachelor's Degree\",\"High School\",\"High School\",\"Bachelor's Degree\",\"High School\",\"Ph.D.\",\"Ph.D.\",\"High School\",\"Ph.D.\",\"Bachelor's Degree\",\"Bachelor's Degree\",\"Bachelor's Degree\",\"Ph.D.\",\"Bachelor's Degree\",\"High School\",\"Bachelor's Degree\",\"Master's Degree\",\"Master's Degree\",\"Bachelor's Degree\",\"Ph.D.\",\"Ph.D.\",\"Ph.D.\",\"Ph.D.\",\"High School\",\"Bachelor's Degree\",\"High School\",\"Master's Degree\",\"High School\",\"High School\",\"Master's Degree\",\"High School\",\"Bachelor's Degree\",\"Master's Degree\",\"High School\",\"Master's Degree\",\"Master's Degree\",\"High School\",\"Ph.D.\",\"Master's Degree\",\"High School\",\"Ph.D.\",\"Bachelor's Degree\",\"Ph.D.\",\"Ph.D.\",\"High School\",\"Bachelor's Degree\",\"Ph.D.\",\"Ph.D.\",\"Master's Degree\",\"Ph.D.\",\"Ph.D.\",\"Ph.D.\",\"High School\",\"Master's Degree\",\"Ph.D.\",\"Bachelor's Degree\",\"Bachelor's Degree\",\"High School\",\"Bachelor's Degree\",\"High School\",\"High School\",\"Ph.D.\",\"Master's Degree\",\"Bachelor's Degree\",\"Ph.D.\",\"Bachelor's Degree\",\"Master's Degree\",\"Bachelor's Degree\",\"Ph.D.\",\"Master's Degree\",\"Master's Degree\",\"Ph.D.\",\"Ph.D.\",\"High School\",\"High School\",\"Bachelor's Degree\",\"Master's Degree\",\"Master's Degree\",\"High School\",\"High School\",\"Bachelor's Degree\",\"Master's Degree\",\"Bachelor's Degree\",\"High School\",\"Bachelor's Degree\",\"High School\",\"Bachelor's Degree\",\"Bachelor's Degree\",\"High School\",\"High School\",\"High School\",\"Bachelor's Degree\",\"High School\",\"Bachelor's Degree\",\"Ph.D.\",\"Master's Degree\",\"Master's Degree\",\"Bachelor's Degree\",\"Bachelor's Degree\",\"Ph.D.\",\"Master's Degree\",\"Bachelor's Degree\",\"High School\",\"Ph.D.\",\"High School\",\"Bachelor's Degree\",\"High School\",\"High School\",\"Master's Degree\",\"Ph.D.\",\"High School\",\"Master's Degree\",\"High School\",\"Bachelor's Degree\",\"High School\",\"Ph.D.\",\"Master's Degree\",\"Master's Degree\",\"Bachelor's Degree\",\"High School\",\"Master's Degree\",\"Ph.D.\",\"Bachelor's Degree\",\"Bachelor's Degree\",\"Master's Degree\",\"High School\",\"High School\"],\"xaxis\":\"x\",\"y\":[1,1,1,1,1,1,1,1,1,1,1,1,1,1,1,1,1,1,1,1,1,1,1,1,1,1,1,1,1,1,1,1,1,1,1,1,1,1,1,1,1,1,1,1,1,1,1,1,1,1,1,1,1,1,1,1,1,1,1,1,1,1,1,1,1,1,1,1,1,1,1,1,1,1,1,1,1,1,1,1,1,1,1,1,1,1,1,1,1,1,1,1,1,1,1,1,1,1,1,1,1,1,1,1,1,1,1,1,1,1,1,1,1,1,1,1,1,1,1,1,1,1,1,1,1,1,1,1,1,1,1,1,1,1,1,1,1,1,1,1,1,1,1,1,1,1,1,1,1,1,1,1,1,1,1,1,1,1,1,1,1,1,1,1,1,1,1,1,1,1,1,1,1,1,1,1,1,1,1,1,1,1,1,1,1,1,1,1,1,1,1,1,1,1,1,1,1,1,1,1,1,1,1,1,1,1,1,1,1,1,1,1,1,1,1,1,1,1,1,1,1,1,1,1,1,1,1,1,1,1,1,1,1,1,1,1,1,1,1,1,1,1,1,1,1,1,1,1,1],\"yaxis\":\"y\",\"type\":\"bar\"}],                        {\"template\":{\"data\":{\"histogram2dcontour\":[{\"type\":\"histogram2dcontour\",\"colorbar\":{\"outlinewidth\":0,\"ticks\":\"\"},\"colorscale\":[[0.0,\"#0d0887\"],[0.1111111111111111,\"#46039f\"],[0.2222222222222222,\"#7201a8\"],[0.3333333333333333,\"#9c179e\"],[0.4444444444444444,\"#bd3786\"],[0.5555555555555556,\"#d8576b\"],[0.6666666666666666,\"#ed7953\"],[0.7777777777777778,\"#fb9f3a\"],[0.8888888888888888,\"#fdca26\"],[1.0,\"#f0f921\"]]}],\"choropleth\":[{\"type\":\"choropleth\",\"colorbar\":{\"outlinewidth\":0,\"ticks\":\"\"}}],\"histogram2d\":[{\"type\":\"histogram2d\",\"colorbar\":{\"outlinewidth\":0,\"ticks\":\"\"},\"colorscale\":[[0.0,\"#0d0887\"],[0.1111111111111111,\"#46039f\"],[0.2222222222222222,\"#7201a8\"],[0.3333333333333333,\"#9c179e\"],[0.4444444444444444,\"#bd3786\"],[0.5555555555555556,\"#d8576b\"],[0.6666666666666666,\"#ed7953\"],[0.7777777777777778,\"#fb9f3a\"],[0.8888888888888888,\"#fdca26\"],[1.0,\"#f0f921\"]]}],\"heatmap\":[{\"type\":\"heatmap\",\"colorbar\":{\"outlinewidth\":0,\"ticks\":\"\"},\"colorscale\":[[0.0,\"#0d0887\"],[0.1111111111111111,\"#46039f\"],[0.2222222222222222,\"#7201a8\"],[0.3333333333333333,\"#9c179e\"],[0.4444444444444444,\"#bd3786\"],[0.5555555555555556,\"#d8576b\"],[0.6666666666666666,\"#ed7953\"],[0.7777777777777778,\"#fb9f3a\"],[0.8888888888888888,\"#fdca26\"],[1.0,\"#f0f921\"]]}],\"heatmapgl\":[{\"type\":\"heatmapgl\",\"colorbar\":{\"outlinewidth\":0,\"ticks\":\"\"},\"colorscale\":[[0.0,\"#0d0887\"],[0.1111111111111111,\"#46039f\"],[0.2222222222222222,\"#7201a8\"],[0.3333333333333333,\"#9c179e\"],[0.4444444444444444,\"#bd3786\"],[0.5555555555555556,\"#d8576b\"],[0.6666666666666666,\"#ed7953\"],[0.7777777777777778,\"#fb9f3a\"],[0.8888888888888888,\"#fdca26\"],[1.0,\"#f0f921\"]]}],\"contourcarpet\":[{\"type\":\"contourcarpet\",\"colorbar\":{\"outlinewidth\":0,\"ticks\":\"\"}}],\"contour\":[{\"type\":\"contour\",\"colorbar\":{\"outlinewidth\":0,\"ticks\":\"\"},\"colorscale\":[[0.0,\"#0d0887\"],[0.1111111111111111,\"#46039f\"],[0.2222222222222222,\"#7201a8\"],[0.3333333333333333,\"#9c179e\"],[0.4444444444444444,\"#bd3786\"],[0.5555555555555556,\"#d8576b\"],[0.6666666666666666,\"#ed7953\"],[0.7777777777777778,\"#fb9f3a\"],[0.8888888888888888,\"#fdca26\"],[1.0,\"#f0f921\"]]}],\"surface\":[{\"type\":\"surface\",\"colorbar\":{\"outlinewidth\":0,\"ticks\":\"\"},\"colorscale\":[[0.0,\"#0d0887\"],[0.1111111111111111,\"#46039f\"],[0.2222222222222222,\"#7201a8\"],[0.3333333333333333,\"#9c179e\"],[0.4444444444444444,\"#bd3786\"],[0.5555555555555556,\"#d8576b\"],[0.6666666666666666,\"#ed7953\"],[0.7777777777777778,\"#fb9f3a\"],[0.8888888888888888,\"#fdca26\"],[1.0,\"#f0f921\"]]}],\"mesh3d\":[{\"type\":\"mesh3d\",\"colorbar\":{\"outlinewidth\":0,\"ticks\":\"\"}}],\"scatter\":[{\"fillpattern\":{\"fillmode\":\"overlay\",\"size\":10,\"solidity\":0.2},\"type\":\"scatter\"}],\"parcoords\":[{\"type\":\"parcoords\",\"line\":{\"colorbar\":{\"outlinewidth\":0,\"ticks\":\"\"}}}],\"scatterpolargl\":[{\"type\":\"scatterpolargl\",\"marker\":{\"colorbar\":{\"outlinewidth\":0,\"ticks\":\"\"}}}],\"bar\":[{\"error_x\":{\"color\":\"#2a3f5f\"},\"error_y\":{\"color\":\"#2a3f5f\"},\"marker\":{\"line\":{\"color\":\"#E5ECF6\",\"width\":0.5},\"pattern\":{\"fillmode\":\"overlay\",\"size\":10,\"solidity\":0.2}},\"type\":\"bar\"}],\"scattergeo\":[{\"type\":\"scattergeo\",\"marker\":{\"colorbar\":{\"outlinewidth\":0,\"ticks\":\"\"}}}],\"scatterpolar\":[{\"type\":\"scatterpolar\",\"marker\":{\"colorbar\":{\"outlinewidth\":0,\"ticks\":\"\"}}}],\"histogram\":[{\"marker\":{\"pattern\":{\"fillmode\":\"overlay\",\"size\":10,\"solidity\":0.2}},\"type\":\"histogram\"}],\"scattergl\":[{\"type\":\"scattergl\",\"marker\":{\"colorbar\":{\"outlinewidth\":0,\"ticks\":\"\"}}}],\"scatter3d\":[{\"type\":\"scatter3d\",\"line\":{\"colorbar\":{\"outlinewidth\":0,\"ticks\":\"\"}},\"marker\":{\"colorbar\":{\"outlinewidth\":0,\"ticks\":\"\"}}}],\"scattermapbox\":[{\"type\":\"scattermapbox\",\"marker\":{\"colorbar\":{\"outlinewidth\":0,\"ticks\":\"\"}}}],\"scatterternary\":[{\"type\":\"scatterternary\",\"marker\":{\"colorbar\":{\"outlinewidth\":0,\"ticks\":\"\"}}}],\"scattercarpet\":[{\"type\":\"scattercarpet\",\"marker\":{\"colorbar\":{\"outlinewidth\":0,\"ticks\":\"\"}}}],\"carpet\":[{\"aaxis\":{\"endlinecolor\":\"#2a3f5f\",\"gridcolor\":\"white\",\"linecolor\":\"white\",\"minorgridcolor\":\"white\",\"startlinecolor\":\"#2a3f5f\"},\"baxis\":{\"endlinecolor\":\"#2a3f5f\",\"gridcolor\":\"white\",\"linecolor\":\"white\",\"minorgridcolor\":\"white\",\"startlinecolor\":\"#2a3f5f\"},\"type\":\"carpet\"}],\"table\":[{\"cells\":{\"fill\":{\"color\":\"#EBF0F8\"},\"line\":{\"color\":\"white\"}},\"header\":{\"fill\":{\"color\":\"#C8D4E3\"},\"line\":{\"color\":\"white\"}},\"type\":\"table\"}],\"barpolar\":[{\"marker\":{\"line\":{\"color\":\"#E5ECF6\",\"width\":0.5},\"pattern\":{\"fillmode\":\"overlay\",\"size\":10,\"solidity\":0.2}},\"type\":\"barpolar\"}],\"pie\":[{\"automargin\":true,\"type\":\"pie\"}]},\"layout\":{\"autotypenumbers\":\"strict\",\"colorway\":[\"#636efa\",\"#EF553B\",\"#00cc96\",\"#ab63fa\",\"#FFA15A\",\"#19d3f3\",\"#FF6692\",\"#B6E880\",\"#FF97FF\",\"#FECB52\"],\"font\":{\"color\":\"#2a3f5f\"},\"hovermode\":\"closest\",\"hoverlabel\":{\"align\":\"left\"},\"paper_bgcolor\":\"white\",\"plot_bgcolor\":\"#E5ECF6\",\"polar\":{\"bgcolor\":\"#E5ECF6\",\"angularaxis\":{\"gridcolor\":\"white\",\"linecolor\":\"white\",\"ticks\":\"\"},\"radialaxis\":{\"gridcolor\":\"white\",\"linecolor\":\"white\",\"ticks\":\"\"}},\"ternary\":{\"bgcolor\":\"#E5ECF6\",\"aaxis\":{\"gridcolor\":\"white\",\"linecolor\":\"white\",\"ticks\":\"\"},\"baxis\":{\"gridcolor\":\"white\",\"linecolor\":\"white\",\"ticks\":\"\"},\"caxis\":{\"gridcolor\":\"white\",\"linecolor\":\"white\",\"ticks\":\"\"}},\"coloraxis\":{\"colorbar\":{\"outlinewidth\":0,\"ticks\":\"\"}},\"colorscale\":{\"sequential\":[[0.0,\"#0d0887\"],[0.1111111111111111,\"#46039f\"],[0.2222222222222222,\"#7201a8\"],[0.3333333333333333,\"#9c179e\"],[0.4444444444444444,\"#bd3786\"],[0.5555555555555556,\"#d8576b\"],[0.6666666666666666,\"#ed7953\"],[0.7777777777777778,\"#fb9f3a\"],[0.8888888888888888,\"#fdca26\"],[1.0,\"#f0f921\"]],\"sequentialminus\":[[0.0,\"#0d0887\"],[0.1111111111111111,\"#46039f\"],[0.2222222222222222,\"#7201a8\"],[0.3333333333333333,\"#9c179e\"],[0.4444444444444444,\"#bd3786\"],[0.5555555555555556,\"#d8576b\"],[0.6666666666666666,\"#ed7953\"],[0.7777777777777778,\"#fb9f3a\"],[0.8888888888888888,\"#fdca26\"],[1.0,\"#f0f921\"]],\"diverging\":[[0,\"#8e0152\"],[0.1,\"#c51b7d\"],[0.2,\"#de77ae\"],[0.3,\"#f1b6da\"],[0.4,\"#fde0ef\"],[0.5,\"#f7f7f7\"],[0.6,\"#e6f5d0\"],[0.7,\"#b8e186\"],[0.8,\"#7fbc41\"],[0.9,\"#4d9221\"],[1,\"#276419\"]]},\"xaxis\":{\"gridcolor\":\"white\",\"linecolor\":\"white\",\"ticks\":\"\",\"title\":{\"standoff\":15},\"zerolinecolor\":\"white\",\"automargin\":true,\"zerolinewidth\":2},\"yaxis\":{\"gridcolor\":\"white\",\"linecolor\":\"white\",\"ticks\":\"\",\"title\":{\"standoff\":15},\"zerolinecolor\":\"white\",\"automargin\":true,\"zerolinewidth\":2},\"scene\":{\"xaxis\":{\"backgroundcolor\":\"#E5ECF6\",\"gridcolor\":\"white\",\"linecolor\":\"white\",\"showbackground\":true,\"ticks\":\"\",\"zerolinecolor\":\"white\",\"gridwidth\":2},\"yaxis\":{\"backgroundcolor\":\"#E5ECF6\",\"gridcolor\":\"white\",\"linecolor\":\"white\",\"showbackground\":true,\"ticks\":\"\",\"zerolinecolor\":\"white\",\"gridwidth\":2},\"zaxis\":{\"backgroundcolor\":\"#E5ECF6\",\"gridcolor\":\"white\",\"linecolor\":\"white\",\"showbackground\":true,\"ticks\":\"\",\"zerolinecolor\":\"white\",\"gridwidth\":2}},\"shapedefaults\":{\"line\":{\"color\":\"#2a3f5f\"}},\"annotationdefaults\":{\"arrowcolor\":\"#2a3f5f\",\"arrowhead\":0,\"arrowwidth\":1},\"geo\":{\"bgcolor\":\"white\",\"landcolor\":\"#E5ECF6\",\"subunitcolor\":\"white\",\"showland\":true,\"showlakes\":true,\"lakecolor\":\"white\"},\"title\":{\"x\":0.05},\"mapbox\":{\"style\":\"light\"}}},\"xaxis\":{\"anchor\":\"y\",\"domain\":[0.0,1.0],\"title\":{\"text\":\"Education Level\"},\"categoryorder\":\"array\",\"categoryarray\":[\"High School\",\"Bachelor's Degree\",\"Master's Degree\",\"Ph.D.\"]},\"yaxis\":{\"anchor\":\"x\",\"domain\":[0.0,1.0],\"title\":{\"text\":\"Count\"}},\"legend\":{\"title\":{\"text\":\"Gender\"},\"tracegroupgap\":0},\"title\":{\"text\":\"Education Level Distribution by Gender\"},\"barmode\":\"relative\"},                        {\"responsive\": true}                    ).then(function(){\n",
              "                            \n",
              "var gd = document.getElementById('86012c90-2395-4782-870f-0d33a2ad7672');\n",
              "var x = new MutationObserver(function (mutations, observer) {{\n",
              "        var display = window.getComputedStyle(gd).display;\n",
              "        if (!display || display === 'none') {{\n",
              "            console.log([gd, 'removed!']);\n",
              "            Plotly.purge(gd);\n",
              "            observer.disconnect();\n",
              "        }}\n",
              "}});\n",
              "\n",
              "// Listen for the removal of the full notebook cells\n",
              "var notebookContainer = gd.closest('#notebook-container');\n",
              "if (notebookContainer) {{\n",
              "    x.observe(notebookContainer, {childList: true});\n",
              "}}\n",
              "\n",
              "// Listen for the clearing of the current output cell\n",
              "var outputEl = gd.closest('.output');\n",
              "if (outputEl) {{\n",
              "    x.observe(outputEl, {childList: true});\n",
              "}}\n",
              "\n",
              "                        })                };                            </script>        </div>\n",
              "</body>\n",
              "</html>"
            ]
          },
          "metadata": {}
        }
      ]
    },
    {
      "cell_type": "code",
      "source": [
        "# frequency of app usage distribution\n",
        "fig = px.bar(data, x=\"Frequency of Usage\",\n",
        "             title=\"Frequency of App Usage Distribution\")\n",
        "fig.update_layout(xaxis_title=\"Frequency of Usage\",\n",
        "                  yaxis_title=\"Count\")\n",
        "fig.show()"
      ],
      "metadata": {
        "colab": {
          "base_uri": "https://localhost:8080/",
          "height": 542
        },
        "id": "GVNq8qm7i26O",
        "outputId": "50b82b0c-6baa-48c7-c02f-c1c7a878ac09"
      },
      "execution_count": 6,
      "outputs": [
        {
          "output_type": "display_data",
          "data": {
            "text/html": [
              "<html>\n",
              "<head><meta charset=\"utf-8\" /></head>\n",
              "<body>\n",
              "    <div>            <script src=\"https://cdnjs.cloudflare.com/ajax/libs/mathjax/2.7.5/MathJax.js?config=TeX-AMS-MML_SVG\"></script><script type=\"text/javascript\">if (window.MathJax && window.MathJax.Hub && window.MathJax.Hub.Config) {window.MathJax.Hub.Config({SVG: {font: \"STIX-Web\"}});}</script>                <script type=\"text/javascript\">window.PlotlyConfig = {MathJaxConfig: 'local'};</script>\n",
              "        <script charset=\"utf-8\" src=\"https://cdn.plot.ly/plotly-2.24.1.min.js\"></script>                <div id=\"5c0739e5-0028-4908-88ab-961600fc02b7\" class=\"plotly-graph-div\" style=\"height:525px; width:100%;\"></div>            <script type=\"text/javascript\">                                    window.PLOTLYENV=window.PLOTLYENV || {};                                    if (document.getElementById(\"5c0739e5-0028-4908-88ab-961600fc02b7\")) {                    Plotly.newPlot(                        \"5c0739e5-0028-4908-88ab-961600fc02b7\",                        [{\"alignmentgroup\":\"True\",\"hovertemplate\":\"Frequency of Usage=%{x}\\u003cbr\\u003ecount=%{y}\\u003cextra\\u003e\\u003c\\u002fextra\\u003e\",\"legendgroup\":\"\",\"marker\":{\"color\":\"#636efa\",\"pattern\":{\"shape\":\"\"}},\"name\":\"\",\"offsetgroup\":\"\",\"orientation\":\"v\",\"showlegend\":false,\"textposition\":\"auto\",\"x\":[\"Weekly\",\"Monthly\",\"Daily\",\"Daily\",\"Monthly\",\"Monthly\",\"Monthly\",\"Daily\",\"Monthly\",\"Weekly\",\"Weekly\",\"Monthly\",\"Weekly\",\"Monthly\",\"Monthly\",\"Monthly\",\"Weekly\",\"Daily\",\"Daily\",\"Daily\",\"Weekly\",\"Weekly\",\"Daily\",\"Daily\",\"Monthly\",\"Monthly\",\"Monthly\",\"Daily\",\"Weekly\",\"Monthly\",\"Weekly\",\"Weekly\",\"Monthly\",\"Weekly\",\"Weekly\",\"Daily\",\"Monthly\",\"Weekly\",\"Weekly\",\"Daily\",\"Monthly\",\"Monthly\",\"Weekly\",\"Daily\",\"Weekly\",\"Daily\",\"Daily\",\"Weekly\",\"Daily\",\"Weekly\",\"Monthly\",\"Monthly\",\"Monthly\",\"Monthly\",\"Daily\",\"Daily\",\"Daily\",\"Daily\",\"Monthly\",\"Monthly\",\"Weekly\",\"Daily\",\"Weekly\",\"Monthly\",\"Monthly\",\"Daily\",\"Daily\",\"Weekly\",\"Monthly\",\"Daily\",\"Weekly\",\"Weekly\",\"Weekly\",\"Daily\",\"Daily\",\"Weekly\",\"Weekly\",\"Daily\",\"Daily\",\"Monthly\",\"Weekly\",\"Monthly\",\"Weekly\",\"Daily\",\"Monthly\",\"Monthly\",\"Weekly\",\"Daily\",\"Weekly\",\"Weekly\",\"Weekly\",\"Weekly\",\"Daily\",\"Weekly\",\"Daily\",\"Weekly\",\"Daily\",\"Daily\",\"Monthly\",\"Weekly\",\"Monthly\",\"Daily\",\"Monthly\",\"Daily\",\"Daily\",\"Monthly\",\"Monthly\",\"Monthly\",\"Daily\",\"Weekly\",\"Daily\",\"Monthly\",\"Daily\",\"Weekly\",\"Weekly\",\"Daily\",\"Monthly\",\"Weekly\",\"Weekly\",\"Daily\",\"Daily\",\"Monthly\",\"Daily\",\"Daily\",\"Daily\",\"Monthly\",\"Weekly\",\"Monthly\",\"Weekly\",\"Daily\",\"Weekly\",\"Daily\",\"Monthly\",\"Monthly\",\"Monthly\",\"Daily\",\"Weekly\",\"Weekly\",\"Weekly\",\"Monthly\",\"Daily\",\"Daily\",\"Weekly\",\"Daily\",\"Monthly\",\"Daily\",\"Daily\",\"Weekly\",\"Daily\",\"Weekly\",\"Weekly\",\"Weekly\",\"Monthly\",\"Daily\",\"Weekly\",\"Daily\",\"Daily\",\"Monthly\",\"Daily\",\"Daily\",\"Monthly\",\"Daily\",\"Monthly\",\"Daily\",\"Monthly\",\"Weekly\",\"Daily\",\"Daily\",\"Daily\",\"Daily\",\"Daily\",\"Weekly\",\"Monthly\",\"Daily\",\"Monthly\",\"Daily\",\"Weekly\",\"Weekly\",\"Daily\",\"Weekly\",\"Monthly\",\"Daily\",\"Daily\",\"Monthly\",\"Daily\",\"Monthly\",\"Daily\",\"Monthly\",\"Daily\",\"Monthly\",\"Weekly\",\"Monthly\",\"Daily\",\"Weekly\",\"Weekly\",\"Monthly\",\"Daily\",\"Monthly\",\"Daily\",\"Monthly\",\"Weekly\",\"Daily\",\"Weekly\",\"Daily\",\"Daily\",\"Weekly\",\"Daily\",\"Weekly\",\"Monthly\",\"Monthly\",\"Monthly\",\"Monthly\",\"Weekly\",\"Monthly\",\"Weekly\",\"Weekly\",\"Weekly\",\"Weekly\",\"Monthly\",\"Daily\",\"Monthly\",\"Monthly\",\"Weekly\",\"Daily\",\"Weekly\",\"Weekly\",\"Monthly\",\"Weekly\",\"Weekly\",\"Daily\",\"Weekly\",\"Weekly\",\"Weekly\",\"Weekly\",\"Monthly\",\"Weekly\",\"Weekly\",\"Monthly\",\"Daily\",\"Weekly\",\"Daily\",\"Weekly\",\"Daily\",\"Monthly\",\"Monthly\",\"Daily\",\"Daily\",\"Monthly\",\"Daily\",\"Weekly\",\"Daily\",\"Daily\",\"Daily\",\"Daily\",\"Monthly\",\"Weekly\",\"Monthly\",\"Monthly\",\"Weekly\",\"Daily\",\"Weekly\",\"Weekly\",\"Daily\",\"Monthly\",\"Weekly\",\"Daily\",\"Daily\",\"Weekly\",\"Weekly\",\"Monthly\",\"Weekly\",\"Daily\",\"Weekly\",\"Weekly\",\"Weekly\",\"Monthly\",\"Daily\",\"Daily\",\"Weekly\",\"Monthly\",\"Weekly\",\"Weekly\",\"Weekly\",\"Weekly\",\"Monthly\",\"Daily\",\"Daily\",\"Daily\",\"Weekly\",\"Weekly\",\"Weekly\",\"Daily\",\"Daily\",\"Daily\",\"Weekly\",\"Daily\",\"Daily\",\"Weekly\",\"Daily\",\"Daily\",\"Daily\",\"Daily\",\"Weekly\",\"Weekly\",\"Daily\",\"Daily\",\"Daily\",\"Monthly\",\"Weekly\",\"Weekly\",\"Daily\",\"Monthly\",\"Monthly\",\"Weekly\",\"Weekly\",\"Monthly\",\"Monthly\",\"Weekly\",\"Monthly\",\"Weekly\",\"Monthly\",\"Monthly\",\"Weekly\",\"Daily\",\"Weekly\",\"Monthly\",\"Monthly\",\"Daily\",\"Monthly\",\"Monthly\",\"Daily\",\"Weekly\",\"Daily\",\"Weekly\",\"Weekly\",\"Daily\",\"Daily\",\"Monthly\",\"Daily\",\"Daily\",\"Weekly\",\"Monthly\",\"Daily\",\"Weekly\",\"Daily\",\"Daily\",\"Daily\",\"Monthly\",\"Daily\",\"Monthly\",\"Monthly\",\"Weekly\",\"Daily\",\"Monthly\",\"Monthly\",\"Daily\",\"Daily\",\"Weekly\",\"Weekly\",\"Monthly\",\"Weekly\",\"Daily\",\"Daily\",\"Monthly\",\"Weekly\",\"Monthly\",\"Daily\",\"Monthly\",\"Daily\",\"Monthly\",\"Daily\",\"Monthly\",\"Monthly\",\"Monthly\",\"Monthly\",\"Monthly\",\"Weekly\",\"Daily\",\"Weekly\",\"Daily\",\"Weekly\",\"Monthly\",\"Monthly\",\"Daily\",\"Weekly\",\"Monthly\",\"Weekly\",\"Monthly\",\"Weekly\",\"Weekly\",\"Daily\",\"Monthly\",\"Daily\",\"Weekly\",\"Monthly\",\"Daily\",\"Weekly\",\"Daily\",\"Weekly\",\"Weekly\",\"Daily\",\"Weekly\",\"Weekly\",\"Daily\",\"Monthly\",\"Daily\",\"Monthly\",\"Daily\",\"Weekly\",\"Weekly\",\"Daily\",\"Daily\",\"Weekly\",\"Daily\",\"Weekly\",\"Daily\",\"Monthly\",\"Weekly\",\"Weekly\",\"Monthly\",\"Monthly\",\"Weekly\",\"Daily\",\"Monthly\",\"Weekly\",\"Weekly\",\"Weekly\",\"Daily\",\"Weekly\",\"Daily\",\"Weekly\",\"Monthly\",\"Monthly\",\"Weekly\",\"Daily\",\"Daily\",\"Daily\",\"Monthly\",\"Monthly\",\"Weekly\",\"Daily\",\"Daily\",\"Monthly\",\"Monthly\",\"Daily\",\"Monthly\",\"Daily\",\"Daily\",\"Daily\",\"Daily\",\"Weekly\",\"Weekly\",\"Monthly\",\"Daily\",\"Monthly\",\"Monthly\",\"Daily\",\"Daily\",\"Weekly\",\"Monthly\",\"Daily\",\"Daily\",\"Monthly\",\"Monthly\",\"Weekly\",\"Weekly\",\"Monthly\",\"Monthly\",\"Monthly\",\"Weekly\",\"Monthly\",\"Daily\",\"Weekly\",\"Weekly\",\"Weekly\",\"Weekly\",\"Weekly\",\"Weekly\",\"Monthly\",\"Monthly\",\"Daily\",\"Monthly\",\"Daily\",\"Daily\",\"Monthly\",\"Monthly\",\"Weekly\",\"Weekly\",\"Weekly\",\"Weekly\",\"Daily\",\"Monthly\",\"Daily\",\"Daily\",\"Daily\",\"Daily\",\"Daily\",\"Daily\",\"Monthly\",\"Monthly\"],\"xaxis\":\"x\",\"y\":[1,1,1,1,1,1,1,1,1,1,1,1,1,1,1,1,1,1,1,1,1,1,1,1,1,1,1,1,1,1,1,1,1,1,1,1,1,1,1,1,1,1,1,1,1,1,1,1,1,1,1,1,1,1,1,1,1,1,1,1,1,1,1,1,1,1,1,1,1,1,1,1,1,1,1,1,1,1,1,1,1,1,1,1,1,1,1,1,1,1,1,1,1,1,1,1,1,1,1,1,1,1,1,1,1,1,1,1,1,1,1,1,1,1,1,1,1,1,1,1,1,1,1,1,1,1,1,1,1,1,1,1,1,1,1,1,1,1,1,1,1,1,1,1,1,1,1,1,1,1,1,1,1,1,1,1,1,1,1,1,1,1,1,1,1,1,1,1,1,1,1,1,1,1,1,1,1,1,1,1,1,1,1,1,1,1,1,1,1,1,1,1,1,1,1,1,1,1,1,1,1,1,1,1,1,1,1,1,1,1,1,1,1,1,1,1,1,1,1,1,1,1,1,1,1,1,1,1,1,1,1,1,1,1,1,1,1,1,1,1,1,1,1,1,1,1,1,1,1,1,1,1,1,1,1,1,1,1,1,1,1,1,1,1,1,1,1,1,1,1,1,1,1,1,1,1,1,1,1,1,1,1,1,1,1,1,1,1,1,1,1,1,1,1,1,1,1,1,1,1,1,1,1,1,1,1,1,1,1,1,1,1,1,1,1,1,1,1,1,1,1,1,1,1,1,1,1,1,1,1,1,1,1,1,1,1,1,1,1,1,1,1,1,1,1,1,1,1,1,1,1,1,1,1,1,1,1,1,1,1,1,1,1,1,1,1,1,1,1,1,1,1,1,1,1,1,1,1,1,1,1,1,1,1,1,1,1,1,1,1,1,1,1,1,1,1,1,1,1,1,1,1,1,1,1,1,1,1,1,1,1,1,1,1,1,1,1,1,1,1,1,1,1,1,1,1,1,1,1,1,1,1,1,1,1,1,1,1,1,1,1,1,1,1,1,1,1,1,1,1,1,1,1,1,1,1,1,1,1,1,1,1,1,1,1,1,1,1,1,1,1,1,1,1,1,1,1,1,1,1,1,1,1,1,1,1,1,1,1,1,1,1,1,1,1,1,1,1,1,1],\"yaxis\":\"y\",\"type\":\"bar\"}],                        {\"template\":{\"data\":{\"histogram2dcontour\":[{\"type\":\"histogram2dcontour\",\"colorbar\":{\"outlinewidth\":0,\"ticks\":\"\"},\"colorscale\":[[0.0,\"#0d0887\"],[0.1111111111111111,\"#46039f\"],[0.2222222222222222,\"#7201a8\"],[0.3333333333333333,\"#9c179e\"],[0.4444444444444444,\"#bd3786\"],[0.5555555555555556,\"#d8576b\"],[0.6666666666666666,\"#ed7953\"],[0.7777777777777778,\"#fb9f3a\"],[0.8888888888888888,\"#fdca26\"],[1.0,\"#f0f921\"]]}],\"choropleth\":[{\"type\":\"choropleth\",\"colorbar\":{\"outlinewidth\":0,\"ticks\":\"\"}}],\"histogram2d\":[{\"type\":\"histogram2d\",\"colorbar\":{\"outlinewidth\":0,\"ticks\":\"\"},\"colorscale\":[[0.0,\"#0d0887\"],[0.1111111111111111,\"#46039f\"],[0.2222222222222222,\"#7201a8\"],[0.3333333333333333,\"#9c179e\"],[0.4444444444444444,\"#bd3786\"],[0.5555555555555556,\"#d8576b\"],[0.6666666666666666,\"#ed7953\"],[0.7777777777777778,\"#fb9f3a\"],[0.8888888888888888,\"#fdca26\"],[1.0,\"#f0f921\"]]}],\"heatmap\":[{\"type\":\"heatmap\",\"colorbar\":{\"outlinewidth\":0,\"ticks\":\"\"},\"colorscale\":[[0.0,\"#0d0887\"],[0.1111111111111111,\"#46039f\"],[0.2222222222222222,\"#7201a8\"],[0.3333333333333333,\"#9c179e\"],[0.4444444444444444,\"#bd3786\"],[0.5555555555555556,\"#d8576b\"],[0.6666666666666666,\"#ed7953\"],[0.7777777777777778,\"#fb9f3a\"],[0.8888888888888888,\"#fdca26\"],[1.0,\"#f0f921\"]]}],\"heatmapgl\":[{\"type\":\"heatmapgl\",\"colorbar\":{\"outlinewidth\":0,\"ticks\":\"\"},\"colorscale\":[[0.0,\"#0d0887\"],[0.1111111111111111,\"#46039f\"],[0.2222222222222222,\"#7201a8\"],[0.3333333333333333,\"#9c179e\"],[0.4444444444444444,\"#bd3786\"],[0.5555555555555556,\"#d8576b\"],[0.6666666666666666,\"#ed7953\"],[0.7777777777777778,\"#fb9f3a\"],[0.8888888888888888,\"#fdca26\"],[1.0,\"#f0f921\"]]}],\"contourcarpet\":[{\"type\":\"contourcarpet\",\"colorbar\":{\"outlinewidth\":0,\"ticks\":\"\"}}],\"contour\":[{\"type\":\"contour\",\"colorbar\":{\"outlinewidth\":0,\"ticks\":\"\"},\"colorscale\":[[0.0,\"#0d0887\"],[0.1111111111111111,\"#46039f\"],[0.2222222222222222,\"#7201a8\"],[0.3333333333333333,\"#9c179e\"],[0.4444444444444444,\"#bd3786\"],[0.5555555555555556,\"#d8576b\"],[0.6666666666666666,\"#ed7953\"],[0.7777777777777778,\"#fb9f3a\"],[0.8888888888888888,\"#fdca26\"],[1.0,\"#f0f921\"]]}],\"surface\":[{\"type\":\"surface\",\"colorbar\":{\"outlinewidth\":0,\"ticks\":\"\"},\"colorscale\":[[0.0,\"#0d0887\"],[0.1111111111111111,\"#46039f\"],[0.2222222222222222,\"#7201a8\"],[0.3333333333333333,\"#9c179e\"],[0.4444444444444444,\"#bd3786\"],[0.5555555555555556,\"#d8576b\"],[0.6666666666666666,\"#ed7953\"],[0.7777777777777778,\"#fb9f3a\"],[0.8888888888888888,\"#fdca26\"],[1.0,\"#f0f921\"]]}],\"mesh3d\":[{\"type\":\"mesh3d\",\"colorbar\":{\"outlinewidth\":0,\"ticks\":\"\"}}],\"scatter\":[{\"fillpattern\":{\"fillmode\":\"overlay\",\"size\":10,\"solidity\":0.2},\"type\":\"scatter\"}],\"parcoords\":[{\"type\":\"parcoords\",\"line\":{\"colorbar\":{\"outlinewidth\":0,\"ticks\":\"\"}}}],\"scatterpolargl\":[{\"type\":\"scatterpolargl\",\"marker\":{\"colorbar\":{\"outlinewidth\":0,\"ticks\":\"\"}}}],\"bar\":[{\"error_x\":{\"color\":\"#2a3f5f\"},\"error_y\":{\"color\":\"#2a3f5f\"},\"marker\":{\"line\":{\"color\":\"#E5ECF6\",\"width\":0.5},\"pattern\":{\"fillmode\":\"overlay\",\"size\":10,\"solidity\":0.2}},\"type\":\"bar\"}],\"scattergeo\":[{\"type\":\"scattergeo\",\"marker\":{\"colorbar\":{\"outlinewidth\":0,\"ticks\":\"\"}}}],\"scatterpolar\":[{\"type\":\"scatterpolar\",\"marker\":{\"colorbar\":{\"outlinewidth\":0,\"ticks\":\"\"}}}],\"histogram\":[{\"marker\":{\"pattern\":{\"fillmode\":\"overlay\",\"size\":10,\"solidity\":0.2}},\"type\":\"histogram\"}],\"scattergl\":[{\"type\":\"scattergl\",\"marker\":{\"colorbar\":{\"outlinewidth\":0,\"ticks\":\"\"}}}],\"scatter3d\":[{\"type\":\"scatter3d\",\"line\":{\"colorbar\":{\"outlinewidth\":0,\"ticks\":\"\"}},\"marker\":{\"colorbar\":{\"outlinewidth\":0,\"ticks\":\"\"}}}],\"scattermapbox\":[{\"type\":\"scattermapbox\",\"marker\":{\"colorbar\":{\"outlinewidth\":0,\"ticks\":\"\"}}}],\"scatterternary\":[{\"type\":\"scatterternary\",\"marker\":{\"colorbar\":{\"outlinewidth\":0,\"ticks\":\"\"}}}],\"scattercarpet\":[{\"type\":\"scattercarpet\",\"marker\":{\"colorbar\":{\"outlinewidth\":0,\"ticks\":\"\"}}}],\"carpet\":[{\"aaxis\":{\"endlinecolor\":\"#2a3f5f\",\"gridcolor\":\"white\",\"linecolor\":\"white\",\"minorgridcolor\":\"white\",\"startlinecolor\":\"#2a3f5f\"},\"baxis\":{\"endlinecolor\":\"#2a3f5f\",\"gridcolor\":\"white\",\"linecolor\":\"white\",\"minorgridcolor\":\"white\",\"startlinecolor\":\"#2a3f5f\"},\"type\":\"carpet\"}],\"table\":[{\"cells\":{\"fill\":{\"color\":\"#EBF0F8\"},\"line\":{\"color\":\"white\"}},\"header\":{\"fill\":{\"color\":\"#C8D4E3\"},\"line\":{\"color\":\"white\"}},\"type\":\"table\"}],\"barpolar\":[{\"marker\":{\"line\":{\"color\":\"#E5ECF6\",\"width\":0.5},\"pattern\":{\"fillmode\":\"overlay\",\"size\":10,\"solidity\":0.2}},\"type\":\"barpolar\"}],\"pie\":[{\"automargin\":true,\"type\":\"pie\"}]},\"layout\":{\"autotypenumbers\":\"strict\",\"colorway\":[\"#636efa\",\"#EF553B\",\"#00cc96\",\"#ab63fa\",\"#FFA15A\",\"#19d3f3\",\"#FF6692\",\"#B6E880\",\"#FF97FF\",\"#FECB52\"],\"font\":{\"color\":\"#2a3f5f\"},\"hovermode\":\"closest\",\"hoverlabel\":{\"align\":\"left\"},\"paper_bgcolor\":\"white\",\"plot_bgcolor\":\"#E5ECF6\",\"polar\":{\"bgcolor\":\"#E5ECF6\",\"angularaxis\":{\"gridcolor\":\"white\",\"linecolor\":\"white\",\"ticks\":\"\"},\"radialaxis\":{\"gridcolor\":\"white\",\"linecolor\":\"white\",\"ticks\":\"\"}},\"ternary\":{\"bgcolor\":\"#E5ECF6\",\"aaxis\":{\"gridcolor\":\"white\",\"linecolor\":\"white\",\"ticks\":\"\"},\"baxis\":{\"gridcolor\":\"white\",\"linecolor\":\"white\",\"ticks\":\"\"},\"caxis\":{\"gridcolor\":\"white\",\"linecolor\":\"white\",\"ticks\":\"\"}},\"coloraxis\":{\"colorbar\":{\"outlinewidth\":0,\"ticks\":\"\"}},\"colorscale\":{\"sequential\":[[0.0,\"#0d0887\"],[0.1111111111111111,\"#46039f\"],[0.2222222222222222,\"#7201a8\"],[0.3333333333333333,\"#9c179e\"],[0.4444444444444444,\"#bd3786\"],[0.5555555555555556,\"#d8576b\"],[0.6666666666666666,\"#ed7953\"],[0.7777777777777778,\"#fb9f3a\"],[0.8888888888888888,\"#fdca26\"],[1.0,\"#f0f921\"]],\"sequentialminus\":[[0.0,\"#0d0887\"],[0.1111111111111111,\"#46039f\"],[0.2222222222222222,\"#7201a8\"],[0.3333333333333333,\"#9c179e\"],[0.4444444444444444,\"#bd3786\"],[0.5555555555555556,\"#d8576b\"],[0.6666666666666666,\"#ed7953\"],[0.7777777777777778,\"#fb9f3a\"],[0.8888888888888888,\"#fdca26\"],[1.0,\"#f0f921\"]],\"diverging\":[[0,\"#8e0152\"],[0.1,\"#c51b7d\"],[0.2,\"#de77ae\"],[0.3,\"#f1b6da\"],[0.4,\"#fde0ef\"],[0.5,\"#f7f7f7\"],[0.6,\"#e6f5d0\"],[0.7,\"#b8e186\"],[0.8,\"#7fbc41\"],[0.9,\"#4d9221\"],[1,\"#276419\"]]},\"xaxis\":{\"gridcolor\":\"white\",\"linecolor\":\"white\",\"ticks\":\"\",\"title\":{\"standoff\":15},\"zerolinecolor\":\"white\",\"automargin\":true,\"zerolinewidth\":2},\"yaxis\":{\"gridcolor\":\"white\",\"linecolor\":\"white\",\"ticks\":\"\",\"title\":{\"standoff\":15},\"zerolinecolor\":\"white\",\"automargin\":true,\"zerolinewidth\":2},\"scene\":{\"xaxis\":{\"backgroundcolor\":\"#E5ECF6\",\"gridcolor\":\"white\",\"linecolor\":\"white\",\"showbackground\":true,\"ticks\":\"\",\"zerolinecolor\":\"white\",\"gridwidth\":2},\"yaxis\":{\"backgroundcolor\":\"#E5ECF6\",\"gridcolor\":\"white\",\"linecolor\":\"white\",\"showbackground\":true,\"ticks\":\"\",\"zerolinecolor\":\"white\",\"gridwidth\":2},\"zaxis\":{\"backgroundcolor\":\"#E5ECF6\",\"gridcolor\":\"white\",\"linecolor\":\"white\",\"showbackground\":true,\"ticks\":\"\",\"zerolinecolor\":\"white\",\"gridwidth\":2}},\"shapedefaults\":{\"line\":{\"color\":\"#2a3f5f\"}},\"annotationdefaults\":{\"arrowcolor\":\"#2a3f5f\",\"arrowhead\":0,\"arrowwidth\":1},\"geo\":{\"bgcolor\":\"white\",\"landcolor\":\"#E5ECF6\",\"subunitcolor\":\"white\",\"showland\":true,\"showlakes\":true,\"lakecolor\":\"white\"},\"title\":{\"x\":0.05},\"mapbox\":{\"style\":\"light\"}}},\"xaxis\":{\"anchor\":\"y\",\"domain\":[0.0,1.0],\"title\":{\"text\":\"Frequency of Usage\"}},\"yaxis\":{\"anchor\":\"x\",\"domain\":[0.0,1.0],\"title\":{\"text\":\"Count\"}},\"legend\":{\"tracegroupgap\":0},\"title\":{\"text\":\"Frequency of App Usage Distribution\"},\"barmode\":\"relative\"},                        {\"responsive\": true}                    ).then(function(){\n",
              "                            \n",
              "var gd = document.getElementById('5c0739e5-0028-4908-88ab-961600fc02b7');\n",
              "var x = new MutationObserver(function (mutations, observer) {{\n",
              "        var display = window.getComputedStyle(gd).display;\n",
              "        if (!display || display === 'none') {{\n",
              "            console.log([gd, 'removed!']);\n",
              "            Plotly.purge(gd);\n",
              "            observer.disconnect();\n",
              "        }}\n",
              "}});\n",
              "\n",
              "// Listen for the removal of the full notebook cells\n",
              "var notebookContainer = gd.closest('#notebook-container');\n",
              "if (notebookContainer) {{\n",
              "    x.observe(notebookContainer, {childList: true});\n",
              "}}\n",
              "\n",
              "// Listen for the clearing of the current output cell\n",
              "var outputEl = gd.closest('.output');\n",
              "if (outputEl) {{\n",
              "    x.observe(outputEl, {childList: true});\n",
              "}}\n",
              "\n",
              "                        })                };                            </script>        </div>\n",
              "</body>\n",
              "</html>"
            ]
          },
          "metadata": {}
        }
      ]
    },
    {
      "cell_type": "code",
      "source": [
        "# Separate data into male and female\n",
        "male_profiles = data[data['Gender'] == 'Male']\n",
        "female_profiles = data[data['Gender'] == 'Female']"
      ],
      "metadata": {
        "id": "x5-epqR5i8X4"
      },
      "execution_count": 7,
      "outputs": []
    },
    {
      "cell_type": "code",
      "source": [
        "def calculate_match_score(profile1,profile2):\n",
        "  # Shared interests score (1 point per shared interest)\n",
        "  interests1 = set(eval(profile1['Interests']))\n",
        "  interests2 = set(eval(profile2['Interests']))\n",
        "  shared_interests_score = len(interests1.intersection(interests2))\n",
        "\n",
        "  # Age difference score (higher age difference, lower score)\n",
        "  age_difference_score = max(0, 10 - abs(profile1['Age'] - profile2['Age']))\n",
        "\n",
        "  # Swiping history score (higher swiping history, higher score)\n",
        "  swiping_history_score = min(profile1['Swiping History'], profile2['Swiping History']) / 100\n",
        "\n",
        "  # Relationship type score (1 point for matching types)\n",
        "  relationship_type_score = 0\n",
        "  if profile1['Looking For'] == profile2['Looking For']:\n",
        "      relationship_type_score = 1\n",
        "\n",
        "  # Total match score\n",
        "  total_score = (\n",
        "        shared_interests_score + age_difference_score + swiping_history_score + relationship_type_score\n",
        "    )\n",
        "\n",
        "  return total_score"
      ],
      "metadata": {
        "id": "Ivex1P-Di_er"
      },
      "execution_count": 8,
      "outputs": []
    },
    {
      "cell_type": "code",
      "source": [
        "# Example: Calculate match score between two profiles\n",
        "profile1 = male_profiles.iloc[0]\n",
        "profile2 = female_profiles.iloc[0]\n",
        "match_score = calculate_match_score(profile1, profile2)\n",
        "print(f\"Match score between User {profile1['User ID']} and User {profile2['User ID']} : {match_score}\")"
      ],
      "metadata": {
        "colab": {
          "base_uri": "https://localhost:8080/"
        },
        "id": "jxzit4eHktzz",
        "outputId": "dc50f4fe-cee2-44d2-edb0-f8cb010b0fe1"
      },
      "execution_count": 9,
      "outputs": [
        {
          "output_type": "stream",
          "name": "stdout",
          "text": [
            "Match score between User 1 and User 2 : 9.96\n"
          ]
        }
      ]
    },
    {
      "cell_type": "code",
      "source": [
        "# Example: Calculate match score between two profiles\n",
        "profile1 = male_profiles.iloc[0]\n",
        "profile2 = female_profiles.iloc[1]\n",
        "match_score = calculate_match_score(profile1, profile2)\n",
        "print(f\"Match score between User {profile1['User ID']} and User {profile2['User ID']} : {match_score}\")"
      ],
      "metadata": {
        "colab": {
          "base_uri": "https://localhost:8080/"
        },
        "id": "9DtSoEFgkxD2",
        "outputId": "2c76f7c3-d28f-43c7-ee68-3a8a58d3bfce"
      },
      "execution_count": 10,
      "outputs": [
        {
          "output_type": "stream",
          "name": "stdout",
          "text": [
            "Match score between User 1 and User 3 : 11.64\n"
          ]
        }
      ]
    },
    {
      "cell_type": "code",
      "source": [
        "def recommend_profiles(male_profiles,female_profiles):\n",
        "  recommendations=[]\n",
        "\n",
        "  for _,male_profile in male_profiles.iterrows():\n",
        "    best_match=None\n",
        "    best_score=-1\n",
        "\n",
        "    for _, female_profile in female_profiles.iterrows():\n",
        "      score = calculate_match_score(male_profile, female_profile)\n",
        "\n",
        "      if score > best_score:\n",
        "                best_match = female_profile\n",
        "                best_score = score\n",
        "    recommendations.append((male_profile, best_match, best_score))\n",
        "\n",
        "    return recommendations\n",
        "\n",
        "# Generate recommendations\n",
        "recommendations = recommend_profiles(male_profiles, female_profiles)\n",
        "\n",
        "# Sort recommendations by match score in descending order\n",
        "recommendations.sort(key=lambda x: x[2], reverse=True)\n"
      ],
      "metadata": {
        "id": "m1LmlocPkzQB"
      },
      "execution_count": 11,
      "outputs": []
    },
    {
      "cell_type": "code",
      "source": [
        "# Display the top recommendations\n",
        "for idx, (male_profile, female_profile, match_score) in enumerate(recommendations[:10]):\n",
        "    print(f\"Recommendation {idx + 1}:\")\n",
        "    print(f\"Male Profile (User {male_profile['User ID']}): Age {male_profile['Age']}, Interests {male_profile['Interests']}\")\n",
        "    print(f\"Female Profile (User {female_profile['User ID']}): Age {female_profile['Age']}, Interests {female_profile['Interests']}\")\n",
        "    print(f\"Match Score: {match_score}\")\n",
        "    print()"
      ],
      "metadata": {
        "colab": {
          "base_uri": "https://localhost:8080/"
        },
        "id": "xS1Mfh-hnxsl",
        "outputId": "6b6cb553-3f42-4424-ca68-014ea7d66d9f"
      },
      "execution_count": 12,
      "outputs": [
        {
          "output_type": "stream",
          "name": "stdout",
          "text": [
            "Recommendation 1:\n",
            "Male Profile (User 1): Age 30, Interests ['Sports', 'Cooking', 'Hiking', 'Music', 'Movies', 'Reading', 'Travel']\n",
            "Female Profile (User 62): Age 30, Interests ['Cooking', 'Travel', 'Movies', 'Sports', 'Reading', 'Music', 'Hiking']\n",
            "Match Score: 17.83\n",
            "\n"
          ]
        }
      ]
    },
    {
      "cell_type": "code",
      "source": [],
      "metadata": {
        "id": "g5uL6f_nn45J"
      },
      "execution_count": null,
      "outputs": []
    }
  ]
}